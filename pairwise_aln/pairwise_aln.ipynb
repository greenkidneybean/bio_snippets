{
 "cells": [
  {
   "cell_type": "code",
   "execution_count": 1,
   "id": "9a4fe5ec-598b-4118-a480-a19a76f5c02a",
   "metadata": {},
   "outputs": [],
   "source": [
    "# color residues based on protein sequence alignment\n",
    "# do a muscle sequence alignment use the output .fa file as input here\n",
    "from Bio import SeqIO"
   ]
  },
  {
   "cell_type": "code",
   "execution_count": 2,
   "id": "f5ca05a3-f54a-4be7-ba99-4ae183dae921",
   "metadata": {},
   "outputs": [
    {
     "data": {
      "text/plain": [
       "{'Homo_sapiens_eIF2α_NP_004085.1': 'MPGLSCRFYQHKFPEVEDVVMVNVRSIAEMGAYVSLLEYNNIEGMILLSELSR--RRIRSINKLIRIGRNECVVVIRVDKEKGYIDLSKRRVSPEEAIKCEDKFTKSKTVYSILRHVAEVLEYTKDEQLESLFQRTAWVFDDKYKRPGYGAYDAFKHAVSDPSILDSLDLNEDEREVLINNINRRLTPQAVKIRADIEVACYGYEGIDAVKEALRAGLNCSTENMPIKINLIAPPRYVMTTTTLERTEGLSVLSQAMAVIKEKIEEKRGVFNVQMEPKVVTDTDETELARQMERLERENAEVDGDDDAEEMEAKAED',\n",
       " 'Vaccinia_K3_YP_232916.1': '-----MLAFCYSLPNAGDVIKGRVYE-KDYALYIYLFDYPHFEAILAESVKMHMDRYVEYRDKL--VGKTVKVKVIRVDYTKGYIDVNYKRMCRHQ-----------------------------------------------------------------------------------------------------------------------------------------------------------------------------------------------------------------------------'}"
      ]
     },
     "execution_count": 2,
     "metadata": {},
     "output_type": "execute_result"
    }
   ],
   "source": [
    "# Replace 'your_file.aln' with the path to your .aln file\n",
    "input_file = 'k3_eIF2a_alignment.fa'\n",
    "\n",
    "def parse_fasta(file_path):\n",
    "    fasta_records = {}\n",
    "    # Parse the .fa file using SeqIO.parse\n",
    "    for record in SeqIO.parse(file_path, \"fasta\"):\n",
    "        fasta_records[record.id] = str(record.seq)\n",
    "    return fasta_records\n",
    "\n",
    "seq_dict = parse_fasta(input_file)\n",
    "seq_dict"
   ]
  },
  {
   "cell_type": "code",
   "execution_count": 4,
   "id": "d34b0968-fbc7-4c82-bcca-2a16bc74568c",
   "metadata": {},
   "outputs": [
    {
     "name": "stdout",
     "output_type": "stream",
     "text": [
      "color #4/B:9,13,14,19,27,30,33,37,43,50,57,58,60,65,67,68,69,70,71,74,75,76,77,78,83 gray surface; color #4/B:1,2,3,4,5,6,7,8,10,11,12,15,16,17,18,20,21,22,23,24,25,26,28,29,31,32,34,35,36,38,39,40,41,42,44,45,46,47,48,49,51,52,53,54,55,56,59,61,62,63,64,66,72,73,79,80,81,82,84,85,86,87,88 #786bac surface\n"
     ]
    }
   ],
   "source": [
    "# return chimerax color command\n",
    "same_color = 'gray'\n",
    "dif_color = '#786bac'\n",
    "structure = 'surface'\n",
    "chain_id = \"#4/B\"\n",
    "\n",
    "eif2a = seq_dict['Homo_sapiens_eIF2α_NP_004085.1']\n",
    "k3 = seq_dict['Vaccinia_K3_YP_232916.1']\n",
    "\n",
    "same_list = []\n",
    "dif_list = []\n",
    "k3_i = 1\n",
    "for i,(k3_n,eif2a_n) in enumerate(zip(k3,eif2a)):\n",
    "    if k3_n == '-':\n",
    "        continue\n",
    "    elif k3_n == eif2a_n:\n",
    "        same_list.append(str(k3_i))\n",
    "        k3_i = k3_i + 1\n",
    "    else:\n",
    "        dif_list.append(str(k3_i))\n",
    "        k3_i = k3_i + 1\n",
    "\n",
    "print(f'color {chain_id}:{\",\".join(same_list)} {same_color} {structure}; color {chain_id}:{\",\".join(dif_list)} {dif_color} {structure}')\n"
   ]
  },
  {
   "cell_type": "code",
   "execution_count": null,
   "id": "1432c664-cd44-463f-a072-39a8c398caf4",
   "metadata": {},
   "outputs": [],
   "source": []
  }
 ],
 "metadata": {
  "kernelspec": {
   "display_name": "Python 3 (ipykernel)",
   "language": "python",
   "name": "python3"
  },
  "language_info": {
   "codemirror_mode": {
    "name": "ipython",
    "version": 3
   },
   "file_extension": ".py",
   "mimetype": "text/x-python",
   "name": "python",
   "nbconvert_exporter": "python",
   "pygments_lexer": "ipython3",
   "version": "3.12.6"
  }
 },
 "nbformat": 4,
 "nbformat_minor": 5
}
