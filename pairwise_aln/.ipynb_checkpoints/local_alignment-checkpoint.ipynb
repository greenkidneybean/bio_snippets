{
 "cells": [
  {
   "cell_type": "code",
   "execution_count": null,
   "id": "44f09180-7549-420d-a064-0d705fafd73d",
   "metadata": {},
   "outputs": [],
   "source": [
    "# do the sequence alignment in nb\n",
    "import subprocess\n",
    "from Bio import AlignIO\n",
    "\n",
    "### INPUTS\n",
    "# Define input and output file paths\n",
    "input_fasta = \"eif2a_vacv-k3.fa\"\n",
    "output_alignment = \"eif2a_vacv-k3.aln.fasta\"\n",
    "\n",
    "# Return chimerax color command\n",
    "same_color = 'gray'\n",
    "dif_color = '#786bac'\n",
    "structure = 'surface'\n",
    "chain_id = \"#4/B\"\n",
    "\n",
    "# header label before the first \" \"\n",
    "eif2a = seq_dict['eIF2a']\n",
    "k3 = seq_dict['VACV']\n",
    "\n",
    "### RUN IT\n",
    "# Construct the MUSCLE command\n",
    "muscle_cmd = [\n",
    "    \"muscle\",  # This assumes 'muscle' is in your system PATH\n",
    "    \"-align\", input_fasta,  # Input file\n",
    "    \"-output\", output_alignment  # Output file\n",
    "]\n",
    "\n",
    "# Run the MUSCLE command using subprocess\n",
    "try:\n",
    "    subprocess.run(muscle_cmd, check=True)\n",
    "    print(f\"Alignment complete. Output saved to {output_alignment}\")\n",
    "except subprocess.CalledProcessError as e:\n",
    "    print(f\"Error running MUSCLE: {e}\")\n",
    "\n",
    "# Parse the muscle output\n",
    "def parse_fasta(file_path):\n",
    "    fasta_records = {}\n",
    "    # Parse the .fa file using SeqIO.parse\n",
    "    for record in SeqIO.parse(file_path, \"fasta\"):\n",
    "        fasta_records[record.id] = str(record.seq)\n",
    "    return fasta_records\n",
    "\n",
    "seq_dict = parse_fasta(output_alignment)\n",
    "\n",
    "same_list = []\n",
    "dif_list = []\n",
    "k3_i = 1\n",
    "for i,(k3_n,eif2a_n) in enumerate(zip(k3,eif2a)):\n",
    "    if k3_n == '-':\n",
    "        continue\n",
    "    elif k3_n == eif2a_n:\n",
    "        same_list.append(str(k3_i))\n",
    "        k3_i = k3_i + 1\n",
    "    else:\n",
    "        dif_list.append(str(k3_i))\n",
    "        k3_i = k3_i + 1\n",
    "\n",
    "print(f'color {chain_id}:{\",\".join(same_list)} {same_color} {structure}; color {chain_id}:{\",\".join(dif_list)} {dif_color} {structure}')"
   ]
  },
  {
   "cell_type": "code",
   "execution_count": 14,
   "id": "49566646-c5dc-46a5-9b04-73d2332d1f67",
   "metadata": {},
   "outputs": [
    {
     "name": "stdout",
     "output_type": "stream",
     "text": [
      ">eIF2a\n",
      "MPGLSCRFYQHKFPEVEDVVMVNVRSIAEMGAYVSLLEYNNIEGMILLSEL--SRRRIRSINKLIRIGRNECVVVIRVDK\n",
      "EKGYIDLSKRRVSPEEAIKCEDKFTKSKTVYSILRHVAEVLEYTKDEQLESLFQRTAWVFDDKYKRPGYGAYDAFKHAVS\n",
      "DPSILDSLDLNEDEREVLINNINRRLTPQAVKIRADIEVACYGYEGIDAVKEALRAGLNCSTENMPIKINLIAPPRYVMT\n",
      "TTTLERTEGLSVLSQAMAVIKEKIEEKRGVFNVQMEPKVVTDTDETELARQMERLERENAEVDGDDDAEEMEAKAED\n",
      ">VACV Vaccinia virus YP_232916.1\n",
      "MLA-----FCYSLPNAGDVIKGRVYE-KDYALYIYLFDYPHFEAILAESVKMHMDRYVEYRDKL--VGKTVKVKVIRVDY\n",
      "TKGYIDVNYKRMCR------------------------------------------------------------------\n",
      "--------------------------------------------------------------------------------\n",
      "---------------------------------------------------------------------------HQ\n"
     ]
    }
   ],
   "source": [
    "%cat eif2a_vacv-k3.aln.fasta"
   ]
  },
  {
   "cell_type": "code",
   "execution_count": 12,
   "id": "b74c47aa-0d7b-41b0-b1d4-9c53feaf9930",
   "metadata": {},
   "outputs": [
    {
     "name": "stdout",
     "output_type": "stream",
     "text": [
      "Untitled.ipynb           eif2a_vacv-k3.fa         pairwise_aln.ipynb\n",
      "eif2a_vacv-k3.aln.fasta  k3_eIF2a_alignment.fa    test.fa\n"
     ]
    }
   ],
   "source": [
    "# Replace 'your_file.aln' with the path to your .aln file\n",
    "input_file = 'k3_eIF2a_alignment.fa'\n",
    "\n",
    "def parse_fasta(file_path):\n",
    "    fasta_records = {}\n",
    "    # Parse the .fa file using SeqIO.parse\n",
    "    for record in SeqIO.parse(file_path, \"fasta\"):\n",
    "        fasta_records[record.id] = str(record.seq)\n",
    "    return fasta_records\n",
    "\n",
    "seq_dict = parse_fasta(input_file)\n",
    "seq_dict"
   ]
  },
  {
   "cell_type": "code",
   "execution_count": null,
   "id": "40007b34-899a-4e1c-84de-f5e5af143e42",
   "metadata": {},
   "outputs": [],
   "source": []
  }
 ],
 "metadata": {
  "kernelspec": {
   "display_name": "Python 3 (ipykernel)",
   "language": "python",
   "name": "python3"
  },
  "language_info": {
   "codemirror_mode": {
    "name": "ipython",
    "version": 3
   },
   "file_extension": ".py",
   "mimetype": "text/x-python",
   "name": "python",
   "nbconvert_exporter": "python",
   "pygments_lexer": "ipython3",
   "version": "3.12.6"
  }
 },
 "nbformat": 4,
 "nbformat_minor": 5
}
