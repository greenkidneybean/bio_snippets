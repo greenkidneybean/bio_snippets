{
 "cells": [
  {
   "cell_type": "code",
   "execution_count": 1,
   "id": "76bad436-a58a-4afb-af8c-ba4bebc456b8",
   "metadata": {},
   "outputs": [],
   "source": [
    "# color a structure by differances from the referance sequence\n",
    "# e.g. VACV K3 is gray where conserved with eIF2a and purple where sites differ"
   ]
  },
  {
   "cell_type": "code",
   "execution_count": 2,
   "id": "13a29d96-5b4d-4a1e-883d-633862b7c969",
   "metadata": {},
   "outputs": [],
   "source": [
    "from Bio import SeqIO\n",
    "import os"
   ]
  },
  {
   "cell_type": "code",
   "execution_count": 13,
   "id": "04caef65-4cc4-4d4d-aad4-68d2997235c2",
   "metadata": {},
   "outputs": [],
   "source": [
    "# Parse the FASTA file and store the headers and sequences in a dictionary\n",
    "def fasta_to_dict(input_fasta):\n",
    "    # make seq dict\n",
    "    seq_dict = {}\n",
    "    for record in SeqIO.parse(input_fasta, \"fasta\"):\n",
    "        header = record.id  # Extract the header (up to the first space in the description)\n",
    "        sequence = str(record.seq)  # Convert the sequence object to a string\n",
    "        seq_dict[header] = sequence\n",
    "    return seq_dict\n",
    "\n",
    "def color_structure(input_alignment, input_dict, structure_name, ref_seq_name, output_dir, depiction='surface'):\n",
    "    seq_dict = fasta_to_dict(input_alignment)\n",
    "        \n",
    "    structure_seq = seq_dict[structure_name]\n",
    "    ref_seq = seq_dict[ref_seq_name]\n",
    "    \n",
    "    dif_list = []\n",
    "    aa = 1\n",
    "    for struct_aa,ref_aa in zip(structure_seq, ref_seq):\n",
    "        if struct_aa == '-':\n",
    "            continue\n",
    "        if struct_aa != ref_aa:\n",
    "            dif_list.append(str(aa))\n",
    "        aa += 1\n",
    "\n",
    "    struct_id = input_dict[structure_name]['id']\n",
    "    struct_color = input_dict[structure_name]['color']\n",
    "    ref_color = input_dict[ref_seq_name]['color']\n",
    "    \n",
    "    print(f\"# ChimeraX Structure: {structure_name} ID:{input_dict[structure_name]['id']}\")\n",
    "    print(f\"view 1; show #{struct_id}.1 models; hide #{struct_id} cartoon,atoms,surface;\")\n",
    "    print(f\"show #{struct_id} {depiction}; color #{struct_id}/A #6dc091 {depiction};\")\n",
    "    print(f\"color #{struct_id}/B {struct_color} {depiction};\")\n",
    "    print(f\"color #{struct_id}/B:{','.join(dif_list)} {ref_color} {depiction};\")\n",
    "    \n",
    "    img_file = f\"{ref_seq_name}-differences_{structure_name}.png\"\n",
    "    output_img = os.path.join(output_dir, img_file)\n",
    "    print(f\"save {output_img} width 900 height 900 transparentBackground true supersample 20;\")\n",
    "    print()\n",
    "    print(f\"hide #{struct_id} models;\")\n",
    "    print()"
   ]
  },
  {
   "cell_type": "code",
   "execution_count": 14,
   "id": "f6ab4c05-0413-482e-927e-c8576e041da0",
   "metadata": {},
   "outputs": [
    {
     "name": "stdout",
     "output_type": "stream",
     "text": [
      "# ChimeraX Structure: VACV ID:2\n",
      "view 1; show #2.1 models; hide #2 cartoon,atoms,surface;\n",
      "show #2 surface; color #2/A #6dc091 surface;\n",
      "color #2/B #786BAC surface;\n",
      "color #2/B:1,2,3,4,5,6,7,8,10,11,12,15,16,17,18,20,21,22,23,24,25,26,28,29,31,32,34,35,36,38,39,40,41,42,44,45,46,47,48,49,50,51,52,53,54,55,56,57,58,59,61,62,63,64,66,72,73,79,80,81,82,84,85,86,87,88 gray surface;\n",
      "save img/eIF2α-differences_VACV.png width 900 height 900 transparentBackground true supersample 20;\n",
      "\n",
      "hide #2 models;\n",
      "\n"
     ]
    }
   ],
   "source": [
    "# \n",
    "input_file = \"k3-orthologs.aln.fa\"\n",
    "input_dict = {\n",
    "    'eIF2α':{'color':'gray','id':'1'},\n",
    "    'VACV':{'color':'#786BAC', 'id':'2'},\n",
    "    'VARV':{'color':'#EC615E', 'id':'3'},\n",
    "    'TPV':{'color':'#F4B681','id':'5'},\n",
    "    'MYXV':{'color':'#6BB3FC','id':'4'},\n",
    "    'RCV':{'color':'#A8D39B','id':'6'}\n",
    "}\n",
    "\n",
    "color_structure(input_file, input_dict, 'VACV', 'eIF2α', 'img/', depiction='surface')"
   ]
  },
  {
   "cell_type": "code",
   "execution_count": 41,
   "id": "5200438e-24d7-4590-b163-e2aedb5193a9",
   "metadata": {},
   "outputs": [
    {
     "name": "stdout",
     "output_type": "stream",
     "text": [
      "# ChimeraX K3 color: VACV\n",
      "view 1; show #2.1 models; hide #2 surface; show #2 cartoon; color #2/A #6dc091 cartoon;\n",
      "color #2/B #786BAC cartoon;\n",
      "color #2/B:1,2,3,4,5,6,7,8,9,10,13,14,18,19,20,23,24,25,26,27,28,29,30,31,32,33,35,36,37,38,39,41,42,43,45,46,47,49,50,52,53,55,56,57,58,59,60,61,63,64,65,66,68,69,70,71,72,73,75,79,80,84,86,87,88,89,90,91,92,93,94,96,97,98,99,100,101,102,103,104,105,106,107,108,109,110,111,112,113,114,115,116,117,118,119,120,121,122,123,124,125,126,127,128,129,130,131,132,133,134,135,136,137,138,139,140,141,142,143,144,145,146,147,148,149,150,151,152,153,154,155,156,157,158,159,160,161,162,163,164,165,166,167,168,169,170,171,172,173,174,175,176,177,178,179,180,181,182,183,184,185,186,187,188,189,190,191,192,193,194,195,196,197,198,199,200,201,202,203,204,205,206,207,208,209,210,211,212,213,214,215,216,217,218,219,220,221,222,223,224,225,226,227,228,229,230,231,232,233 #786BAC cartoon;\n",
      "save /Volumes/data/sadhu_lab/projects/dms_pkr_k3-orthologs/data/chimerax/img/k3-differences_VACV.png width 900 height 900 transparentBackground true supersample 10;\n",
      "\n",
      "hide #2 models;\n",
      "\n",
      "# ChimeraX K3 color: eIF2a\n",
      "view 1; show #1.1 models; hide #1 surface; show #1 cartoon; color #1/A #6dc091 cartoon;\n",
      "color #1/B #786BAC cartoon;\n",
      "color #1/B:1,2,3,4,5,6,7,8,9,10,11,12,13,15,16,17,20,21,22,23,25,26,27,28,29,30,31,32,34,35,37,38,40,41,42,44,45,46,47,48,50,51,52,53,54,55,56,57,58,59,60,61,62,63,64,65,67,68,69,70,72,78,79,85,86,87,88,90,91,92,93,94,95,96,97,98,99,100,101,102,103,104,105,106,107,108,109,110,111,112,113,114,115,116,117,118,119,120,121,122,123,124,125,126,127,128,129,130,131,132,133,134,135,136,137,138,139,140,141,142,143,144,145,146,147,148,149,150,151,152,153,154,155,156,157,158,159,160,161,162,163,164,165,166,167,168,169,170,171,172,173,174,175,176,177,178,179,180,181,182,183,184,185,186,187,188,189,190,191,192,193,194,195,196,197,198,199,200,201,202,203,204,205,206,207,208,209,210,211,212,213,214,215,216,217,218,219,220,221,222,223,224,225,226,227,228,229,230,231,232,233,234,235,236,237,238,239,240,241,242,243,244,245,246,247,248,249,250,251,252,253,254,255,256,257,258,259,260,261,262,263,264,265,266,267,268,269,270,271,272,273,274,275,276,277,278,279,280,281,282,283,284,285,286,287,288,289,290,291,292,293,294,295,296,297,298,299,300,301,302,303,304,305,306,307,308,309,310,311,312,313,314,315 #808080 cartoon;\n",
      "save /Volumes/data/sadhu_lab/projects/dms_pkr_k3-orthologs/data/chimerax/img/k3-differences_eIF2a.png width 900 height 900 transparentBackground true supersample 10;\n",
      "\n",
      "hide #1 models;\n",
      "\n",
      "# ChimeraX K3 color: VARV\n",
      "view 1; show #3.1 models; hide #3 surface; show #3 cartoon; color #3/A #6dc091 cartoon;\n",
      "color #3/B #786BAC cartoon;\n",
      "color #3/B:3,11,15,18,22,23,25,28,29,36,41,44,45,49,52,53,70 #EC615E cartoon;\n",
      "save /Volumes/data/sadhu_lab/projects/dms_pkr_k3-orthologs/data/chimerax/img/k3-differences_VARV.png width 900 height 900 transparentBackground true supersample 10;\n",
      "\n",
      "hide #3 models;\n",
      "\n",
      "# ChimeraX K3 color: TPV\n",
      "view 1; show #5.1 models; hide #5 surface; show #5 cartoon; color #5/A #6dc091 cartoon;\n",
      "color #5/B #786BAC cartoon;\n",
      "color #5/B:1,2,3,4,5,6,7,13,14,16,17,19,21,24,26,27,30,31,32,33,34,35,37,38,39,40,41,44,45,46,47,48,49,50,51,52,53,54,55,56,57,58,59,60,61,62,64,68,69,71,75,77,78,82,85,86,87,88 #F4B681 cartoon;\n",
      "save /Volumes/data/sadhu_lab/projects/dms_pkr_k3-orthologs/data/chimerax/img/k3-differences_TPV.png width 900 height 900 transparentBackground true supersample 10;\n",
      "\n",
      "hide #5 models;\n",
      "\n",
      "# ChimeraX K3 color: MYXV\n",
      "view 1; show #4.1 models; hide #4 surface; show #4 cartoon; color #4/A #6dc091 cartoon;\n",
      "color #4/B #786BAC cartoon;\n",
      "color #4/B:1,2,3,4,7,9,10,12,15,18,19,20,21,22,23,25,26,28,29,30,32,35,36,37,38,39,40,41,42,44,45,46,47,48,49,50,51,55,56,57,59,60,62,64,66,67,69,71,72,73,74,75 #6BB3FC cartoon;\n",
      "save /Volumes/data/sadhu_lab/projects/dms_pkr_k3-orthologs/data/chimerax/img/k3-differences_MYXV.png width 900 height 900 transparentBackground true supersample 10;\n",
      "\n",
      "hide #4 models;\n",
      "\n",
      "# ChimeraX K3 color: RCVZ\n",
      "view 1; show #6.1 models; hide #6 surface; show #6 cartoon; color #6/A #6dc091 cartoon;\n",
      "color #6/B #786BAC cartoon;\n",
      "color #6/B:1,2,3,4,5,6,7,8,9,10,13,14,18,19,20,23,24,25,26,27,28,29,30,31,32,33,35,36,37,38,39,41,42,43,45,46,47,49,50,52,53,55,56,57,58,59,60,61,63,64,65,66,68,69,70,71,72,73,75,79,80,84,86,87,88,89,90,91,92,93,94,96,97,98,99,100,101,102,103,104,105,106,107,108,109,110,111,112,113,114,115,116,117,118,119,120,121,122,123,124,125,126,127,128,129,130,131,132,133,134,135,136,137,138,139,140,141,142,143,144,145,146,147,148,149,150,151,152,153,154,155,156,157,158,159,160,161,162,163,164,165,166,167,168,169,170,171,172,173,174,175,176,177,178,179,180,181,182,183,184,185,186,187,188,189,190,191,192,193,194,195,196,197,198,199,200,201,202,203,204,205,206,207,208,209,210,211,212,213,214,215,216,217,218,219,220,221,222,223,224,225,226,227,228,229,230,231,232,233 #99FDA7 cartoon;\n",
      "save /Volumes/data/sadhu_lab/projects/dms_pkr_k3-orthologs/data/chimerax/img/k3-differences_RCVZ.png width 900 height 900 transparentBackground true supersample 10;\n",
      "\n",
      "hide #6 models;\n",
      "\n"
     ]
    }
   ],
   "source": [
    "# Show VACV\n",
    "cartoon_color_dif(\"VACV\")\n",
    "\n",
    "# Differences for other K3 Orthologs - Cartoon\n",
    "for k3 in k3_orthologs:\n",
    "    vacv_seq = k3_dict['VACV']['seq']\n",
    "    k3_seq = k3_dict[k3]['seq']\n",
    "\n",
    "    aa = 0\n",
    "    dif_list = []\n",
    "    for vacv_aa,k3_aa in zip(vacv_seq, k3_seq):\n",
    "        if k3_aa == '-':\n",
    "            continue\n",
    "        aa += 1\n",
    "        if vacv_aa != k3_aa:\n",
    "            dif_list.append(str(aa))\n",
    "\n",
    "    # Show differences from VACV\n",
    "    cartoon_color_dif(k3)"
   ]
  },
  {
   "cell_type": "code",
   "execution_count": 15,
   "id": "681476dc-b09d-426e-b255-b79d5eca67ae",
   "metadata": {},
   "outputs": [],
   "source": [
    "def surface_color_dif(k3):\n",
    "    vacv_seq = k3_dict['VACV']['seq']\n",
    "    vacv_color = k3_dict['VACV']['color']\n",
    "    k3_color = k3_dict[k3]['color']\n",
    "    k3_id = k3_dict[k3]['id']\n",
    "    \n",
    "    print(f\"# ChimeraX K3 color: {k3}\")\n",
    "    print(f\"view 3; show #{k3_id}.1 models; hide #{k3_id}/A surface; hide #{k3_id} cartoon; show #{k3_id}/B surface;\")\n",
    "    print(f\"color #{k3_id}/B {vacv_color} surface;\")\n",
    "    print(f\"color #{k3_id}/B:{','.join(dif_list)} {k3_color} surface;\")\n",
    "    \n",
    "    img_file = f\"surface-k3-differences_{k3}.png\"\n",
    "    img_path = os.path.join(img_dir, img_file)\n",
    "    print(f\"save {img_path} width 900 height 900 transparentBackground true supersample 10;\")\n",
    "    print(f\"\\nhide #{k3_id} models;\\n\")"
   ]
  },
  {
   "cell_type": "code",
   "execution_count": 16,
   "id": "d463e80a-2376-4f42-bdff-9b39c14b4a67",
   "metadata": {},
   "outputs": [
    {
     "ename": "NameError",
     "evalue": "name 'k3_dict' is not defined",
     "output_type": "error",
     "traceback": [
      "\u001b[0;31m---------------------------------------------------------------------------\u001b[0m",
      "\u001b[0;31mNameError\u001b[0m                                 Traceback (most recent call last)",
      "Cell \u001b[0;32mIn[16], line 2\u001b[0m\n\u001b[1;32m      1\u001b[0m \u001b[38;5;66;03m# Show VACV\u001b[39;00m\n\u001b[0;32m----> 2\u001b[0m \u001b[43msurface_color_dif\u001b[49m\u001b[43m(\u001b[49m\u001b[38;5;124;43m\"\u001b[39;49m\u001b[38;5;124;43mVACV\u001b[39;49m\u001b[38;5;124;43m\"\u001b[39;49m\u001b[43m)\u001b[49m\n\u001b[1;32m      4\u001b[0m \u001b[38;5;66;03m# Differences for other K3 Orthologs - Cartoon\u001b[39;00m\n\u001b[1;32m      5\u001b[0m \u001b[38;5;28;01mfor\u001b[39;00m k3 \u001b[38;5;129;01min\u001b[39;00m k3_orthologs:\n",
      "Cell \u001b[0;32mIn[15], line 2\u001b[0m, in \u001b[0;36msurface_color_dif\u001b[0;34m(k3)\u001b[0m\n\u001b[1;32m      1\u001b[0m \u001b[38;5;28;01mdef\u001b[39;00m \u001b[38;5;21msurface_color_dif\u001b[39m(k3):\n\u001b[0;32m----> 2\u001b[0m     vacv_seq \u001b[38;5;241m=\u001b[39m \u001b[43mk3_dict\u001b[49m[\u001b[38;5;124m'\u001b[39m\u001b[38;5;124mVACV\u001b[39m\u001b[38;5;124m'\u001b[39m][\u001b[38;5;124m'\u001b[39m\u001b[38;5;124mseq\u001b[39m\u001b[38;5;124m'\u001b[39m]\n\u001b[1;32m      3\u001b[0m     vacv_color \u001b[38;5;241m=\u001b[39m k3_dict[\u001b[38;5;124m'\u001b[39m\u001b[38;5;124mVACV\u001b[39m\u001b[38;5;124m'\u001b[39m][\u001b[38;5;124m'\u001b[39m\u001b[38;5;124mcolor\u001b[39m\u001b[38;5;124m'\u001b[39m]\n\u001b[1;32m      4\u001b[0m     k3_color \u001b[38;5;241m=\u001b[39m k3_dict[k3][\u001b[38;5;124m'\u001b[39m\u001b[38;5;124mcolor\u001b[39m\u001b[38;5;124m'\u001b[39m]\n",
      "\u001b[0;31mNameError\u001b[0m: name 'k3_dict' is not defined"
     ]
    }
   ],
   "source": [
    "# Show VACV\n",
    "surface_color_dif(\"VACV\")\n",
    "\n",
    "# Differences for other K3 Orthologs - Cartoon\n",
    "for k3 in k3_orthologs:\n",
    "    vacv_seq = k3_dict['VACV']['seq']\n",
    "    k3_seq = k3_dict[k3]['seq']\n",
    "\n",
    "    aa = 0\n",
    "    dif_list = []\n",
    "    for vacv_aa,k3_aa in zip(vacv_seq, k3_seq):\n",
    "        if k3_aa == '-':\n",
    "            continue\n",
    "        aa += 1\n",
    "        if vacv_aa != k3_aa:\n",
    "            dif_list.append(str(aa))\n",
    "\n",
    "    # Show differences from VACV\n",
    "    surface_color_dif(k3)"
   ]
  },
  {
   "cell_type": "code",
   "execution_count": null,
   "id": "f591868c-8268-4f71-a8a6-4e2819cd6463",
   "metadata": {},
   "outputs": [],
   "source": []
  },
  {
   "cell_type": "code",
   "execution_count": null,
   "id": "35da5aaa-6702-4c9b-b219-77405844b65e",
   "metadata": {},
   "outputs": [],
   "source": [
    "\n"
   ]
  },
  {
   "cell_type": "code",
   "execution_count": null,
   "id": "46fc564b-2916-4b40-aa9c-c36960560c00",
   "metadata": {},
   "outputs": [],
   "source": [
    "# try coloring by similarity to eIF2a\n",
    "\n",
    "def surface_color_dif(k3):\n",
    "    vacv_seq = k3_dict['VACV']['seq']\n",
    "    vacv_color = k3_dict['VACV']['color']\n",
    "    k3_color = k3_dict[k3]['color']\n",
    "    k3_id = k3_dict[k3]['id']\n",
    "    \n",
    "    print(f\"# ChimeraX K3 color: {k3}\")\n",
    "    print(f\"view 3; show #{k3_id}.1 models; hide #{k3_id}/A surface; hide #{k3_id} cartoon; show #{k3_id}/B surface;\")\n",
    "    print(f\"color #{k3_id}/B {vacv_color} surface;\")\n",
    "    print(f\"color #{k3_id}/B:{','.join(dif_list)} {k3_color} surface;\")\n",
    "    \n",
    "    img_file = f\"surface-k3-differences_{k3}.png\"\n",
    "    img_path = os.path.join(img_dir, img_file)\n",
    "    print(f\"save {img_path} width 900 height 900 transparentBackground true supersample 10;\")\n",
    "    print()\n",
    "    print(f\"hide #{k3_id} models;\")\n",
    "    print()\n",
    "\n",
    "# Show VACV\n",
    "surface_color_dif(\"VACV\")\n",
    "\n",
    "# Differences for other K3 Orthologs - Cartoon\n",
    "for k3 in k3_orthologs:\n",
    "    vacv_seq = k3_dict['VACV']['seq']\n",
    "    k3_seq = k3_dict[k3]['seq']\n",
    "\n",
    "    aa = 0\n",
    "    dif_list = []\n",
    "    for vacv_aa,k3_aa in zip(vacv_seq, k3_seq):\n",
    "        if k3_aa == '-':\n",
    "            continue\n",
    "        aa += 1\n",
    "        if vacv_aa != k3_aa:\n",
    "            dif_list.append(str(aa))\n",
    "\n",
    "    # Show differences from VACV\n",
    "    surface_color_dif(k3)"
   ]
  }
 ],
 "metadata": {
  "kernelspec": {
   "display_name": "Python 3 (ipykernel)",
   "language": "python",
   "name": "python3"
  },
  "language_info": {
   "codemirror_mode": {
    "name": "ipython",
    "version": 3
   },
   "file_extension": ".py",
   "mimetype": "text/x-python",
   "name": "python",
   "nbconvert_exporter": "python",
   "pygments_lexer": "ipython3",
   "version": "3.12.6"
  }
 },
 "nbformat": 4,
 "nbformat_minor": 5
}
